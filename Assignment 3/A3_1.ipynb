{
 "cells": [
  {
   "cell_type": "markdown",
   "metadata": {},
   "source": [
    "● Setup 1A - You are required to train a BERT model (google-bert/bert-base-uncased ·\n",
    "Hugging Face) using HuggingFace for the task of Text Similarity. You are required to\n",
    "obtain BERT embeddings while making use of a special token used by BERT for\n",
    "separating multiple sentences in an input text and an appropriate linear layer or setting\n",
    "of BertForSequenceClassification (BERT) framework for a float output. Choose a\n",
    "suitable loss function. Report the required evaluation metric on the validation set."
   ]
  },
  {
   "cell_type": "code",
   "execution_count": 1,
   "metadata": {},
   "outputs": [],
   "source": [
    "# set gpu invisible\n",
    "\n",
    "import os\n",
    "os.environ[\"CUDA_VISIBLE_DEVICES\"] = \"-1\""
   ]
  },
  {
   "cell_type": "code",
   "execution_count": 2,
   "metadata": {},
   "outputs": [
    {
     "name": "stderr",
     "output_type": "stream",
     "text": [
      "/home/pypixel/.local/lib/python3.10/site-packages/tqdm/auto.py:21: TqdmWarning: IProgress not found. Please update jupyter and ipywidgets. See https://ipywidgets.readthedocs.io/en/stable/user_install.html\n",
      "  from .autonotebook import tqdm as notebook_tqdm\n"
     ]
    },
    {
     "name": "stdout",
     "output_type": "stream",
     "text": [
      "Device available for running:  cpu\n"
     ]
    }
   ],
   "source": [
    "#Import necessary libraries\n",
    "import pandas as pd\n",
    "import torch\n",
    "from torch.utils.data import Dataset, DataLoader\n",
    "from transformers import BertTokenizer, BertForSequenceClassification, AdamW, get_linear_schedule_with_warmup\n",
    "from scipy.stats import pearsonr\n",
    "from tqdm import tqdm\n",
    "import numpy as np\n",
    "import os\n",
    "import matplotlib.pyplot as plt\n",
    "\n",
    "device = torch.device(\"cuda\" if torch.cuda.is_available() else \"cpu\")\n",
    "\n",
    "print(\"Device available for running: \", device)\n",
    "\n",
    "#Writing a Dataloader to fetch input_ids, attention mask of tokens of sentences\n",
    "class SimilarityofSentences(Dataset):\n",
    "    def __init__(self, dataframe, tokenizer, max_length):\n",
    "        self.tokenizer = tokenizer\n",
    "        self.data = dataframe\n",
    "        self.sentence1 = dataframe.sentence1\n",
    "        self.sentence2 = dataframe.sentence2\n",
    "        self.targets = self.data.score\n",
    "        self.max_length = max_length\n",
    "\n",
    "    def __len__(self):\n",
    "        return len(self.targets)\n",
    "\n",
    "    def __getitem__(self, index):\n",
    "        sentence1 = str(self.sentence1[index])\n",
    "        sentence2 = str(self.sentence2[index])\n",
    "        target = self.targets[index]\n",
    "        inputs = self.tokenizer.encode_plus(\n",
    "            sentence1,\n",
    "            sentence2,\n",
    "            add_special_tokens=True,\n",
    "            max_length=self.max_length,\n",
    "            padding=\"max_length\",\n",
    "            truncation=True,\n",
    "            return_attention_mask=True,\n",
    "            return_tensors=\"pt\",\n",
    "        )\n",
    "        return {\n",
    "            \"input_ids\": inputs[\"input_ids\"].flatten(),\n",
    "            \"attention_mask\": inputs[\"attention_mask\"].flatten(),\n",
    "            \"labels\": torch.tensor(target, dtype=torch.float),\n",
    "        }"
   ]
  },
  {
   "cell_type": "code",
   "execution_count": 5,
   "metadata": {},
   "outputs": [
    {
     "name": "stderr",
     "output_type": "stream",
     "text": [
      "Some weights of BertForSequenceClassification were not initialized from the model checkpoint at bert-base-uncased and are newly initialized: ['classifier.bias', 'classifier.weight']\n",
      "You should probably TRAIN this model on a down-stream task to be able to use it for predictions and inference.\n"
     ]
    },
    {
     "data": {
      "text/html": [
       "<div>\n",
       "<style scoped>\n",
       "    .dataframe tbody tr th:only-of-type {\n",
       "        vertical-align: middle;\n",
       "    }\n",
       "\n",
       "    .dataframe tbody tr th {\n",
       "        vertical-align: top;\n",
       "    }\n",
       "\n",
       "    .dataframe thead th {\n",
       "        text-align: right;\n",
       "    }\n",
       "</style>\n",
       "<table border=\"1\" class=\"dataframe\">\n",
       "  <thead>\n",
       "    <tr style=\"text-align: right;\">\n",
       "      <th></th>\n",
       "      <th>score</th>\n",
       "      <th>sentence1</th>\n",
       "      <th>sentence2</th>\n",
       "    </tr>\n",
       "  </thead>\n",
       "  <tbody>\n",
       "    <tr>\n",
       "      <th>0</th>\n",
       "      <td>5.00</td>\n",
       "      <td>A plane is taking off.</td>\n",
       "      <td>An air plane is taking off.</td>\n",
       "    </tr>\n",
       "    <tr>\n",
       "      <th>1</th>\n",
       "      <td>3.80</td>\n",
       "      <td>A man is playing a large flute.</td>\n",
       "      <td>A man is playing a flute.</td>\n",
       "    </tr>\n",
       "    <tr>\n",
       "      <th>2</th>\n",
       "      <td>3.80</td>\n",
       "      <td>A man is spreading shreded cheese on a pizza.</td>\n",
       "      <td>A man is spreading shredded cheese on an uncoo...</td>\n",
       "    </tr>\n",
       "    <tr>\n",
       "      <th>3</th>\n",
       "      <td>2.60</td>\n",
       "      <td>Three men are playing chess.</td>\n",
       "      <td>Two men are playing chess.</td>\n",
       "    </tr>\n",
       "    <tr>\n",
       "      <th>4</th>\n",
       "      <td>4.25</td>\n",
       "      <td>A man is playing the cello.</td>\n",
       "      <td>A man seated is playing the cello.</td>\n",
       "    </tr>\n",
       "    <tr>\n",
       "      <th>...</th>\n",
       "      <td>...</td>\n",
       "      <td>...</td>\n",
       "      <td>...</td>\n",
       "    </tr>\n",
       "    <tr>\n",
       "      <th>5706</th>\n",
       "      <td>0.00</td>\n",
       "      <td>Severe Gales As Storm Clodagh Hits Britain</td>\n",
       "      <td>Merkel pledges NATO solidarity with Latvia</td>\n",
       "    </tr>\n",
       "    <tr>\n",
       "      <th>5707</th>\n",
       "      <td>0.00</td>\n",
       "      <td>Dozens of Egyptians hostages taken by Libyan t...</td>\n",
       "      <td>Egyptian boat crash death toll rises as more b...</td>\n",
       "    </tr>\n",
       "    <tr>\n",
       "      <th>5708</th>\n",
       "      <td>0.00</td>\n",
       "      <td>President heading to Bahrain</td>\n",
       "      <td>President Xi: China to continue help to fight ...</td>\n",
       "    </tr>\n",
       "    <tr>\n",
       "      <th>5709</th>\n",
       "      <td>0.00</td>\n",
       "      <td>China, India vow to further bilateral ties</td>\n",
       "      <td>China Scrambles to Reassure Jittery Stock Traders</td>\n",
       "    </tr>\n",
       "    <tr>\n",
       "      <th>5710</th>\n",
       "      <td>0.00</td>\n",
       "      <td>Putin spokesman: Doping charges appear unfounded</td>\n",
       "      <td>The Latest on Severe Weather: 1 Dead in Texas ...</td>\n",
       "    </tr>\n",
       "  </tbody>\n",
       "</table>\n",
       "<p>5711 rows × 3 columns</p>\n",
       "</div>"
      ],
      "text/plain": [
       "      score                                          sentence1  \\\n",
       "0      5.00                             A plane is taking off.   \n",
       "1      3.80                    A man is playing a large flute.   \n",
       "2      3.80      A man is spreading shreded cheese on a pizza.   \n",
       "3      2.60                       Three men are playing chess.   \n",
       "4      4.25                        A man is playing the cello.   \n",
       "...     ...                                                ...   \n",
       "5706   0.00         Severe Gales As Storm Clodagh Hits Britain   \n",
       "5707   0.00  Dozens of Egyptians hostages taken by Libyan t...   \n",
       "5708   0.00                       President heading to Bahrain   \n",
       "5709   0.00         China, India vow to further bilateral ties   \n",
       "5710   0.00   Putin spokesman: Doping charges appear unfounded   \n",
       "\n",
       "                                              sentence2  \n",
       "0                           An air plane is taking off.  \n",
       "1                             A man is playing a flute.  \n",
       "2     A man is spreading shredded cheese on an uncoo...  \n",
       "3                            Two men are playing chess.  \n",
       "4                    A man seated is playing the cello.  \n",
       "...                                                 ...  \n",
       "5706         Merkel pledges NATO solidarity with Latvia  \n",
       "5707  Egyptian boat crash death toll rises as more b...  \n",
       "5708  President Xi: China to continue help to fight ...  \n",
       "5709  China Scrambles to Reassure Jittery Stock Traders  \n",
       "5710  The Latest on Severe Weather: 1 Dead in Texas ...  \n",
       "\n",
       "[5711 rows x 3 columns]"
      ]
     },
     "execution_count": 5,
     "metadata": {},
     "output_type": "execute_result"
    }
   ],
   "source": [
    "#loading and preparing dataset using above defined class\n",
    "train_data = pd.read_csv(\"train.csv\", delimiter='\\t')\n",
    "dev_data = pd.read_csv(\"dev.csv\", delimiter='\\t')\n",
    "tokenizer = BertTokenizer.from_pretrained(\"bert-base-uncased\")\n",
    "train_dataset = SimilarityofSentences(train_data, tokenizer, max_length=128)\n",
    "dev_dataset = SimilarityofSentences(dev_data, tokenizer, max_length=128)\n",
    "\n",
    "train_dataloader = DataLoader(train_dataset, batch_size=8, shuffle=True)\n",
    "dev_dataloader = DataLoader(dev_dataset, batch_size=8)\n",
    "\n",
    "model = BertForSequenceClassification.from_pretrained(\"bert-base-uncased\", num_labels=1)\n",
    "model.to(device)\n",
    "train_data"
   ]
  },
  {
   "cell_type": "code",
   "execution_count": null,
   "metadata": {},
   "outputs": [
    {
     "name": "stderr",
     "output_type": "stream",
     "text": [
      "/home/pypixel/.local/lib/python3.10/site-packages/transformers/optimization.py:457: FutureWarning: This implementation of AdamW is deprecated and will be removed in a future version. Use the PyTorch implementation torch.optim.AdamW instead, or set `no_deprecation_warning=True` to disable this warning\n",
      "  warnings.warn(\n",
      "Training Epoch 1:   0%|          | 0/714 [00:00<?, ?it/s]Be aware, overflowing tokens are not returned for the setting you have chosen, i.e. sequence pairs with the 'longest_first' truncation strategy. So the returned list will always be empty even if some tokens have been removed.\n",
      "Training Epoch 1:   9%|▉         | 65/714 [00:08<01:22,  7.86it/s]Be aware, overflowing tokens are not returned for the setting you have chosen, i.e. sequence pairs with the 'longest_first' truncation strategy. So the returned list will always be empty even if some tokens have been removed.\n",
      "Training Epoch 1:  11%|█         | 75/714 [00:09<01:20,  7.90it/s]Be aware, overflowing tokens are not returned for the setting you have chosen, i.e. sequence pairs with the 'longest_first' truncation strategy. So the returned list will always be empty even if some tokens have been removed.\n",
      "Training Epoch 1:  63%|██████▎   | 450/714 [00:57<00:33,  7.84it/s]Be aware, overflowing tokens are not returned for the setting you have chosen, i.e. sequence pairs with the 'longest_first' truncation strategy. So the returned list will always be empty even if some tokens have been removed.\n",
      "Training Epoch 1:  70%|███████   | 501/714 [01:03<00:26,  7.94it/s]Be aware, overflowing tokens are not returned for the setting you have chosen, i.e. sequence pairs with the 'longest_first' truncation strategy. So the returned list will always be empty even if some tokens have been removed.\n",
      "Training Epoch 1: 100%|██████████| 714/714 [01:31<00:00,  7.84it/s]\n"
     ]
    },
    {
     "name": "stdout",
     "output_type": "stream",
     "text": [
      "Average training loss: 1.063698712068529\n"
     ]
    },
    {
     "name": "stderr",
     "output_type": "stream",
     "text": [
      "Validation Epoch 1:  70%|███████   | 129/184 [00:04<00:02, 26.95it/s]Be aware, overflowing tokens are not returned for the setting you have chosen, i.e. sequence pairs with the 'longest_first' truncation strategy. So the returned list will always be empty even if some tokens have been removed.\n",
      "Validation Epoch 1:  72%|███████▏  | 132/184 [00:04<00:01, 26.72it/s]Be aware, overflowing tokens are not returned for the setting you have chosen, i.e. sequence pairs with the 'longest_first' truncation strategy. So the returned list will always be empty even if some tokens have been removed.\n",
      "Be aware, overflowing tokens are not returned for the setting you have chosen, i.e. sequence pairs with the 'longest_first' truncation strategy. So the returned list will always be empty even if some tokens have been removed.\n",
      "Validation Epoch 1:  73%|███████▎  | 135/184 [00:04<00:01, 26.46it/s]Be aware, overflowing tokens are not returned for the setting you have chosen, i.e. sequence pairs with the 'longest_first' truncation strategy. So the returned list will always be empty even if some tokens have been removed.\n",
      "Validation Epoch 1:  77%|███████▋  | 141/184 [00:05<00:01, 26.48it/s]Be aware, overflowing tokens are not returned for the setting you have chosen, i.e. sequence pairs with the 'longest_first' truncation strategy. So the returned list will always be empty even if some tokens have been removed.\n",
      "Validation Epoch 1: 100%|██████████| 184/184 [00:06<00:00, 27.32it/s]\n"
     ]
    },
    {
     "name": "stdout",
     "output_type": "stream",
     "text": [
      "Validation loss: 0.5690641218958341\n"
     ]
    },
    {
     "name": "stderr",
     "output_type": "stream",
     "text": [
      "Training Epoch 2:   0%|          | 0/714 [00:00<?, ?it/s]Be aware, overflowing tokens are not returned for the setting you have chosen, i.e. sequence pairs with the 'longest_first' truncation strategy. So the returned list will always be empty even if some tokens have been removed.\n",
      "Training Epoch 2:  21%|██▏       | 153/714 [00:19<01:12,  7.76it/s]Be aware, overflowing tokens are not returned for the setting you have chosen, i.e. sequence pairs with the 'longest_first' truncation strategy. So the returned list will always be empty even if some tokens have been removed.\n",
      "Training Epoch 2:  45%|████▌     | 323/714 [00:41<00:50,  7.79it/s]Be aware, overflowing tokens are not returned for the setting you have chosen, i.e. sequence pairs with the 'longest_first' truncation strategy. So the returned list will always be empty even if some tokens have been removed.\n",
      "Training Epoch 2:  59%|█████▊    | 418/714 [00:53<00:38,  7.78it/s]Be aware, overflowing tokens are not returned for the setting you have chosen, i.e. sequence pairs with the 'longest_first' truncation strategy. So the returned list will always be empty even if some tokens have been removed.\n",
      "Training Epoch 2:  91%|█████████▏| 652/714 [01:23<00:07,  7.82it/s]Be aware, overflowing tokens are not returned for the setting you have chosen, i.e. sequence pairs with the 'longest_first' truncation strategy. So the returned list will always be empty even if some tokens have been removed.\n",
      "Training Epoch 2: 100%|██████████| 714/714 [01:31<00:00,  7.79it/s]\n"
     ]
    },
    {
     "name": "stdout",
     "output_type": "stream",
     "text": [
      "Average training loss: 0.443680051208085\n"
     ]
    },
    {
     "name": "stderr",
     "output_type": "stream",
     "text": [
      "Validation Epoch 2:  70%|███████   | 129/184 [00:04<00:02, 26.80it/s]Be aware, overflowing tokens are not returned for the setting you have chosen, i.e. sequence pairs with the 'longest_first' truncation strategy. So the returned list will always be empty even if some tokens have been removed.\n",
      "Validation Epoch 2:  72%|███████▏  | 132/184 [00:04<00:01, 26.45it/s]Be aware, overflowing tokens are not returned for the setting you have chosen, i.e. sequence pairs with the 'longest_first' truncation strategy. So the returned list will always be empty even if some tokens have been removed.\n",
      "Be aware, overflowing tokens are not returned for the setting you have chosen, i.e. sequence pairs with the 'longest_first' truncation strategy. So the returned list will always be empty even if some tokens have been removed.\n",
      "Validation Epoch 2:  73%|███████▎  | 135/184 [00:04<00:01, 26.28it/s]Be aware, overflowing tokens are not returned for the setting you have chosen, i.e. sequence pairs with the 'longest_first' truncation strategy. So the returned list will always be empty even if some tokens have been removed.\n",
      "Validation Epoch 2:  77%|███████▋  | 141/184 [00:05<00:01, 26.33it/s]Be aware, overflowing tokens are not returned for the setting you have chosen, i.e. sequence pairs with the 'longest_first' truncation strategy. So the returned list will always be empty even if some tokens have been removed.\n",
      "Validation Epoch 2: 100%|██████████| 184/184 [00:06<00:00, 27.12it/s]\n"
     ]
    },
    {
     "name": "stdout",
     "output_type": "stream",
     "text": [
      "Validation loss: 0.5368072534708873\n"
     ]
    },
    {
     "name": "stderr",
     "output_type": "stream",
     "text": [
      "Training Epoch 3:  25%|██▌       | 179/714 [00:23<01:08,  7.78it/s]Be aware, overflowing tokens are not returned for the setting you have chosen, i.e. sequence pairs with the 'longest_first' truncation strategy. So the returned list will always be empty even if some tokens have been removed.\n",
      "Training Epoch 3:  39%|███▉      | 279/714 [00:35<00:56,  7.74it/s]Be aware, overflowing tokens are not returned for the setting you have chosen, i.e. sequence pairs with the 'longest_first' truncation strategy. So the returned list will always be empty even if some tokens have been removed.\n",
      "Training Epoch 3:  39%|███▉      | 282/714 [00:36<00:56,  7.69it/s]Be aware, overflowing tokens are not returned for the setting you have chosen, i.e. sequence pairs with the 'longest_first' truncation strategy. So the returned list will always be empty even if some tokens have been removed.\n",
      "Training Epoch 3:  71%|███████▏  | 510/714 [01:05<00:26,  7.69it/s]Be aware, overflowing tokens are not returned for the setting you have chosen, i.e. sequence pairs with the 'longest_first' truncation strategy. So the returned list will always be empty even if some tokens have been removed.\n",
      "Training Epoch 3:  78%|███████▊  | 559/714 [01:11<00:20,  7.71it/s]Be aware, overflowing tokens are not returned for the setting you have chosen, i.e. sequence pairs with the 'longest_first' truncation strategy. So the returned list will always be empty even if some tokens have been removed.\n",
      "Training Epoch 3: 100%|██████████| 714/714 [01:31<00:00,  7.76it/s]\n"
     ]
    },
    {
     "name": "stdout",
     "output_type": "stream",
     "text": [
      "Average training loss: 0.2914507947627361\n"
     ]
    },
    {
     "name": "stderr",
     "output_type": "stream",
     "text": [
      "Validation Epoch 3:  70%|███████   | 129/184 [00:04<00:02, 26.53it/s]Be aware, overflowing tokens are not returned for the setting you have chosen, i.e. sequence pairs with the 'longest_first' truncation strategy. So the returned list will always be empty even if some tokens have been removed.\n",
      "Validation Epoch 3:  72%|███████▏  | 132/184 [00:04<00:01, 26.34it/s]Be aware, overflowing tokens are not returned for the setting you have chosen, i.e. sequence pairs with the 'longest_first' truncation strategy. So the returned list will always be empty even if some tokens have been removed.\n",
      "Be aware, overflowing tokens are not returned for the setting you have chosen, i.e. sequence pairs with the 'longest_first' truncation strategy. So the returned list will always be empty even if some tokens have been removed.\n",
      "Validation Epoch 3:  73%|███████▎  | 135/184 [00:05<00:01, 26.24it/s]Be aware, overflowing tokens are not returned for the setting you have chosen, i.e. sequence pairs with the 'longest_first' truncation strategy. So the returned list will always be empty even if some tokens have been removed.\n",
      "Validation Epoch 3:  77%|███████▋  | 141/184 [00:05<00:01, 26.08it/s]Be aware, overflowing tokens are not returned for the setting you have chosen, i.e. sequence pairs with the 'longest_first' truncation strategy. So the returned list will always be empty even if some tokens have been removed.\n",
      "Validation Epoch 3: 100%|██████████| 184/184 [00:06<00:00, 26.98it/s]\n"
     ]
    },
    {
     "name": "stdout",
     "output_type": "stream",
     "text": [
      "Validation loss: 0.5335688488355473\n"
     ]
    },
    {
     "name": "stderr",
     "output_type": "stream",
     "text": [
      "Training Epoch 4:  15%|█▍        | 105/714 [00:13<01:18,  7.73it/s]Be aware, overflowing tokens are not returned for the setting you have chosen, i.e. sequence pairs with the 'longest_first' truncation strategy. So the returned list will always be empty even if some tokens have been removed.\n",
      "Be aware, overflowing tokens are not returned for the setting you have chosen, i.e. sequence pairs with the 'longest_first' truncation strategy. So the returned list will always be empty even if some tokens have been removed.\n",
      "Training Epoch 4:  60%|██████    | 429/714 [00:55<00:36,  7.78it/s]Be aware, overflowing tokens are not returned for the setting you have chosen, i.e. sequence pairs with the 'longest_first' truncation strategy. So the returned list will always be empty even if some tokens have been removed.\n",
      "Training Epoch 4:  73%|███████▎  | 522/714 [01:07<00:24,  7.77it/s]Be aware, overflowing tokens are not returned for the setting you have chosen, i.e. sequence pairs with the 'longest_first' truncation strategy. So the returned list will always be empty even if some tokens have been removed.\n",
      "Training Epoch 4:  89%|████████▉ | 635/714 [01:22<00:10,  7.76it/s]Be aware, overflowing tokens are not returned for the setting you have chosen, i.e. sequence pairs with the 'longest_first' truncation strategy. So the returned list will always be empty even if some tokens have been removed.\n",
      "Training Epoch 4: 100%|██████████| 714/714 [01:32<00:00,  7.74it/s]\n"
     ]
    },
    {
     "name": "stdout",
     "output_type": "stream",
     "text": [
      "Average training loss: 0.25930439439766545\n"
     ]
    },
    {
     "name": "stderr",
     "output_type": "stream",
     "text": [
      "Validation Epoch 4:  70%|███████   | 129/184 [00:04<00:02, 26.62it/s]Be aware, overflowing tokens are not returned for the setting you have chosen, i.e. sequence pairs with the 'longest_first' truncation strategy. So the returned list will always be empty even if some tokens have been removed.\n",
      "Validation Epoch 4:  72%|███████▏  | 132/184 [00:04<00:01, 26.30it/s]Be aware, overflowing tokens are not returned for the setting you have chosen, i.e. sequence pairs with the 'longest_first' truncation strategy. So the returned list will always be empty even if some tokens have been removed.\n",
      "Be aware, overflowing tokens are not returned for the setting you have chosen, i.e. sequence pairs with the 'longest_first' truncation strategy. So the returned list will always be empty even if some tokens have been removed.\n",
      "Validation Epoch 4:  73%|███████▎  | 135/184 [00:05<00:01, 26.03it/s]Be aware, overflowing tokens are not returned for the setting you have chosen, i.e. sequence pairs with the 'longest_first' truncation strategy. So the returned list will always be empty even if some tokens have been removed.\n",
      "Validation Epoch 4:  77%|███████▋  | 141/184 [00:05<00:01, 26.21it/s]Be aware, overflowing tokens are not returned for the setting you have chosen, i.e. sequence pairs with the 'longest_first' truncation strategy. So the returned list will always be empty even if some tokens have been removed.\n",
      "Validation Epoch 4: 100%|██████████| 184/184 [00:06<00:00, 26.93it/s]\n"
     ]
    },
    {
     "name": "stdout",
     "output_type": "stream",
     "text": [
      "Validation loss: 0.5335688488355473\n"
     ]
    },
    {
     "name": "stderr",
     "output_type": "stream",
     "text": [
      "Training Epoch 5:  14%|█▍        | 102/714 [00:13<01:19,  7.71it/s]Be aware, overflowing tokens are not returned for the setting you have chosen, i.e. sequence pairs with the 'longest_first' truncation strategy. So the returned list will always be empty even if some tokens have been removed.\n",
      "Training Epoch 5:  15%|█▌        | 110/714 [00:14<01:18,  7.70it/s]Be aware, overflowing tokens are not returned for the setting you have chosen, i.e. sequence pairs with the 'longest_first' truncation strategy. So the returned list will always be empty even if some tokens have been removed.\n",
      "Training Epoch 5:  23%|██▎       | 167/714 [00:21<01:10,  7.76it/s]Be aware, overflowing tokens are not returned for the setting you have chosen, i.e. sequence pairs with the 'longest_first' truncation strategy. So the returned list will always be empty even if some tokens have been removed.\n",
      "Training Epoch 5:  89%|████████▉ | 636/714 [01:22<00:10,  7.73it/s]Be aware, overflowing tokens are not returned for the setting you have chosen, i.e. sequence pairs with the 'longest_first' truncation strategy. So the returned list will always be empty even if some tokens have been removed.\n",
      "Training Epoch 5:  91%|█████████▏| 653/714 [01:24<00:07,  7.74it/s]Be aware, overflowing tokens are not returned for the setting you have chosen, i.e. sequence pairs with the 'longest_first' truncation strategy. So the returned list will always be empty even if some tokens have been removed.\n",
      "Training Epoch 5: 100%|██████████| 714/714 [01:32<00:00,  7.74it/s]\n"
     ]
    },
    {
     "name": "stdout",
     "output_type": "stream",
     "text": [
      "Average training loss: 0.25693317522302644\n"
     ]
    },
    {
     "name": "stderr",
     "output_type": "stream",
     "text": [
      "Validation Epoch 5:  70%|███████   | 129/184 [00:04<00:02, 26.52it/s]Be aware, overflowing tokens are not returned for the setting you have chosen, i.e. sequence pairs with the 'longest_first' truncation strategy. So the returned list will always be empty even if some tokens have been removed.\n",
      "Validation Epoch 5:  72%|███████▏  | 132/184 [00:04<00:01, 26.12it/s]Be aware, overflowing tokens are not returned for the setting you have chosen, i.e. sequence pairs with the 'longest_first' truncation strategy. So the returned list will always be empty even if some tokens have been removed.\n",
      "Be aware, overflowing tokens are not returned for the setting you have chosen, i.e. sequence pairs with the 'longest_first' truncation strategy. So the returned list will always be empty even if some tokens have been removed.\n",
      "Validation Epoch 5:  73%|███████▎  | 135/184 [00:05<00:01, 25.93it/s]Be aware, overflowing tokens are not returned for the setting you have chosen, i.e. sequence pairs with the 'longest_first' truncation strategy. So the returned list will always be empty even if some tokens have been removed.\n",
      "Validation Epoch 5:  77%|███████▋  | 141/184 [00:05<00:01, 25.99it/s]Be aware, overflowing tokens are not returned for the setting you have chosen, i.e. sequence pairs with the 'longest_first' truncation strategy. So the returned list will always be empty even if some tokens have been removed.\n",
      "Validation Epoch 5: 100%|██████████| 184/184 [00:06<00:00, 26.86it/s]\n"
     ]
    },
    {
     "name": "stdout",
     "output_type": "stream",
     "text": [
      "Validation loss: 0.5335688488355473\n"
     ]
    },
    {
     "data": {
      "image/png": "[encoded data removed]",
      "text/plain": [
       "<Figure size 1000x800 with 1 Axes>"
      ]
     },
     "metadata": {},
     "output_type": "display_data"
    }
   ],
   "source": [
    "#Training and Loss plots\n",
    "optimizer = AdamW(model.parameters(), lr=2e-5, correct_bias=False)\n",
    "total_steps = len(train_dataloader) * 3\n",
    "scheduler = get_linear_schedule_with_warmup(optimizer, num_warmup_steps=0, num_training_steps=total_steps)\n",
    "\n",
    "loss_values, validation_loss_values = [],[]\n",
    "def train_and_evaluate(t_loader, v_loader, model):\n",
    "    for epoch in range(5):\n",
    "        model.train()\n",
    "        total_loss = 0\n",
    "        for batch in tqdm(t_loader, desc=f\"Training Epoch {epoch+1}\"):\n",
    "            optimizer.zero_grad()\n",
    "            batch = {k: v.to(device) for k, v in batch.items()}\n",
    "            outputs = model(**batch)\n",
    "            loss = outputs.loss\n",
    "            total_loss += loss.item()\n",
    "            loss.backward()\n",
    "            optimizer.step()\n",
    "            scheduler.step()\n",
    "        avg_train_loss = total_loss / len(t_loader)\n",
    "        loss_values.append(avg_train_loss)\n",
    "        print(f\"Average training loss: {avg_train_loss}\")\n",
    "\n",
    "        model.eval()\n",
    "        total_eval_loss = 0\n",
    "        for batch in tqdm(v_loader, desc=f\"Validation Epoch {epoch+1}\"):\n",
    "            batch = {k: v.to(device) for k, v in batch.items()}\n",
    "            with torch.no_grad():\n",
    "                outputs = model(**batch)\n",
    "            loss = outputs.loss\n",
    "            total_eval_loss += loss.item()\n",
    "        avg_val_loss = total_eval_loss / len(v_loader)\n",
    "        validation_loss_values.append(avg_val_loss)\n",
    "        print(f\"Validation loss: {avg_val_loss}\")\n",
    "    \n",
    "train_and_evaluate(train_dataloader, dev_dataloader, model)\n",
    "\n",
    "\n",
    "plt.figure(figsize=(10, 8))\n",
    "plt.plot(loss_values, 'b-o', label=\"Training Loss\")\n",
    "plt.plot(validation_loss_values, 'r-o', label=\"Validation Loss\")\n",
    "plt.title(\"Training & Validation Loss\")\n",
    "plt.xlabel(\"Epochs\")\n",
    "plt.ylabel(\"Loss\")\n",
    "plt.legend()\n",
    "plt.show()"
   ]
  },
  {
   "cell_type": "code",
   "execution_count": null,
   "metadata": {},
   "outputs": [
    {
     "name": "stdout",
     "output_type": "stream",
     "text": [
      "Lists have been dumped\n"
     ]
    }
   ],
   "source": [
    "import pickle\n",
    "l1 = loss_values\n",
    "l2 = validation_loss_values\n",
    "# File path to save the pickle file\n",
    "file_path1 = \"1A_train.pkl\"\n",
    "file_path2 = \"1A_val.pkl\"\n",
    "# Dumping the list into the pickle file\n",
    "with open(file_path1, 'wb') as f:\n",
    "    pickle.dump(l1, f)\n",
    "with open(file_path2, 'wb') as f:\n",
    "    pickle.dump(l2, f)\n",
    "print(f\"Lists have been dumped\")"
   ]
  },
  {
   "cell_type": "code",
   "execution_count": null,
   "metadata": {},
   "outputs": [
    {
     "name": "stderr",
     "output_type": "stream",
     "text": [
      "Predicting on validation set:  70%|███████   | 129/184 [00:04<00:02, 26.60it/s]Be aware, overflowing tokens are not returned for the setting you have chosen, i.e. sequence pairs with the 'longest_first' truncation strategy. So the returned list will always be empty even if some tokens have been removed.\n",
      "Predicting on validation set:  72%|███████▏  | 132/184 [00:04<00:01, 26.32it/s]Be aware, overflowing tokens are not returned for the setting you have chosen, i.e. sequence pairs with the 'longest_first' truncation strategy. So the returned list will always be empty even if some tokens have been removed.\n",
      "Be aware, overflowing tokens are not returned for the setting you have chosen, i.e. sequence pairs with the 'longest_first' truncation strategy. So the returned list will always be empty even if some tokens have been removed.\n",
      "Predicting on validation set:  73%|███████▎  | 135/184 [00:04<00:01, 26.06it/s]Be aware, overflowing tokens are not returned for the setting you have chosen, i.e. sequence pairs with the 'longest_first' truncation strategy. So the returned list will always be empty even if some tokens have been removed.\n",
      "Predicting on validation set:  77%|███████▋  | 141/184 [00:05<00:01, 26.17it/s]Be aware, overflowing tokens are not returned for the setting you have chosen, i.e. sequence pairs with the 'longest_first' truncation strategy. So the returned list will always be empty even if some tokens have been removed.\n",
      "Predicting on validation set: 100%|██████████| 184/184 [00:06<00:00, 27.03it/s]\n"
     ]
    },
    {
     "name": "stdout",
     "output_type": "stream",
     "text": [
      "Pearson Correlation on Setup 1A: 0.875522694264924\n"
     ]
    },
    {
     "data": {
      "text/plain": [
       "('1a_model/tokenizer_config.json',\n",
       " '1a_model/special_tokens_map.json',\n",
       " '1a_model/vocab.txt',\n",
       " '1a_model/added_tokens.json')"
      ]
     },
     "execution_count": 5,
     "metadata": {},
     "output_type": "execute_result"
    }
   ],
   "source": [
    "def evaluate(validation_loader):\n",
    "    model.eval()\n",
    "    predictions, true_labels = [], []\n",
    "    for batch in tqdm(validation_loader, desc=\"Predicting on validation set\"):\n",
    "        batch = {k: v.to(device) for k, v in batch.items()}\n",
    "        with torch.no_grad():\n",
    "            outputs = model(**batch)\n",
    "        embeddings = outputs.logits.detach().cpu().numpy()\n",
    "        target_ID = batch['labels'].to('cpu').numpy()\n",
    "        predictions.append(embeddings)\n",
    "        true_labels.append(target_ID)\n",
    "    predictions = np.concatenate(predictions, axis=0)\n",
    "    true_labels = np.concatenate(true_labels, axis=0)\n",
    "    return predictions, true_labels\n",
    "Prediction, true_labels = evaluate(dev_dataloader)\n",
    "Pearson_correlation = pearsonr(Prediction.flatten(), true_labels.flatten())\n",
    "print(f\"Pearson Correlation on Setup 1A: {Pearson_correlation[0]}\")\n",
    "\n",
    "#Model saving\n",
    "model_path = \"1a_model\"\n",
    "if not os.path.exists(model_path):\n",
    "    os.makedirs(model_path)\n",
    "model.save_pretrained(model_path)\n",
    "tokenizer.save_pretrained(model_path)"
   ]
  },
  {
   "cell_type": "markdown",
   "metadata": {},
   "source": [
    "Setup 1B - You are required to make use of the Sentence-BERT model\n",
    "(https://arxiv.org/pdf/1908.10084.pdf) and the SentenceTransformers framework\n",
    "(Sentence-Transformers). For this setup, make use of the Sentence-BERT model to\n",
    "encode the sentences and determine the cosine similarity between these embeddings\n",
    "for the validation set. Report the required evaluation metric on the validation set."
   ]
  },
  {
   "cell_type": "code",
   "execution_count": null,
   "metadata": {},
   "outputs": [
    {
     "name": "stdout",
     "output_type": "stream",
     "text": [
      "Pearson Correlation on Setup 1B: 0.872128606029852\n"
     ]
    }
   ],
   "source": [
    "from sentence_transformers import SentenceTransformer, util\n",
    "import pandas as pd\n",
    "import numpy as np\n",
    "from scipy.stats import pearsonr\n",
    "\n",
    "df_dev = pd.read_csv(\"dev.csv\", delimiter='\\t')\n",
    "\n",
    "model = SentenceTransformer('all-mpnet-base-v2')\n",
    "\n",
    "embeddings1 = model.encode(df_dev['sentence1'].tolist(), convert_to_tensor=True)\n",
    "embeddings2 = model.encode(df_dev['sentence2'].tolist(), convert_to_tensor=True)\n",
    "\n",
    "cosine_similarities = util.pytorch_cos_sim(embeddings1, embeddings2).diag().cpu().numpy()\n",
    "scaled_cosine_similarities = cosine_similarities * 5\n",
    "\n",
    "pearson_corr = pearsonr(scaled_cosine_similarities, df_dev['score'].values)\n",
    "print(f\"Pearson Correlation on Setup 1B: {pearson_corr[0]}\")\n",
    "\n",
    "# SAVE MODEL CHECKPOINT\n",
    "\n",
    "model_path = \"1b_model\"\n",
    "if not os.path.exists(model_path):\n",
    "    os.makedirs(model_path)\n",
    "model.save(model_path)"
   ]
  },
  {
   "cell_type": "markdown",
   "metadata": {},
   "source": [
    "Setup 1C - In this setup, you must fine-tune the Sentence-BERT model for the task of\n",
    "STS. Make use of the CosineSimilarityLoss function (Losses — Sentence-Transformers\n",
    "documentation). Report the required evaluation metric on the validation set—reference:\n",
    "Semantic Textual Similarity — Sentence-Transformers documentation. You must train for\n",
    "at least two epochs and surpass the performance of Setup 2B."
   ]
  },
  {
   "cell_type": "code",
   "execution_count": 5,
   "metadata": {},
   "outputs": [],
   "source": [
    "#Loading and Preparing data\n",
    "from sentence_transformers import SentenceTransformer, InputExample, losses, datasets, evaluation\n",
    "import pandas as pd\n",
    "from scipy.stats import pearsonr\n",
    "import numpy as np\n",
    "import os\n",
    "from sentence_transformers import util\n",
    "import torch\n",
    "# make gpu invisible to avoid memory error\n",
    "# import os\n",
    "# os.environ[\"CUDA_VISIBLE_DEVICES\"] = \"-1\"\n",
    "\n",
    "# device used \n",
    "device = torch.device(\"cuda\" if torch.cuda.is_available() else \"cpu\")\n",
    "\n",
    "train_df = pd.read_csv('train.csv', delimiter='\\t').fillna('')\n",
    "dev_df = pd.read_csv('dev.csv', delimiter='\\t').fillna('')\n",
    "\n",
    "train_df['sentence1'], train_df['sentence2'] = train_df['sentence1'].astype(str), train_df['sentence2'].astype(str)\n",
    "dev_df['sentence1'], dev_df['sentence2'] = dev_df['sentence1'].astype(str), dev_df['sentence2'].astype(str)\n",
    "\n",
    "#Preparing train examples, dev examples and scale the cosine similarity to the score column's scale before evaluation.\n",
    "\n",
    "train_examples = []\n",
    "for index, row in train_df.iterrows():\n",
    "    texts = [row['sentence1'], row['sentence2']]\n",
    "    label = row['score'] / 5\n",
    "    train_examples.append(InputExample(texts=texts, label=label))\n",
    "dev_examples = []\n",
    "for index, row in dev_df.iterrows():\n",
    "    texts = [row['sentence1'], row['sentence2']]\n",
    "    label = row['score'] / 5\n",
    "    dev_examples.append(InputExample(texts=texts, label=label))"
   ]
  },
  {
   "cell_type": "code",
   "execution_count": 6,
   "metadata": {},
   "outputs": [
    {
     "name": "stdout",
     "output_type": "stream",
     "text": [
      "Training the model on:  cuda\n"
     ]
    },
    {
     "name": "stderr",
     "output_type": "stream",
     "text": [
      "Iteration: 100%|██████████| 5711/5711 [10:05<00:00,  9.43it/s]\n",
      "Iteration: 100%|██████████| 5711/5711 [10:11<00:00,  9.33it/s]\n",
      "Epoch: 100%|██████████| 2/2 [20:39<00:00, 619.63s/it]\n"
     ]
    }
   ],
   "source": [
    "#Training\n",
    "print(\"Training the model on: \" , device )\n",
    "\n",
    "model_name = 'sentence-transformers/all-mpnet-base-v2'\n",
    "model = SentenceTransformer(model_name)\n",
    "\n",
    "train_dataloader = datasets.NoDuplicatesDataLoader(train_examples, batch_size=1)\n",
    "train_loss = losses.CosineSimilarityLoss(model)\n",
    "\n",
    "evaluator = evaluation.EmbeddingSimilarityEvaluator.from_input_examples(dev_examples, batch_size=1)\n",
    "\n",
    "model_path = \"1c_model\"\n",
    "\n",
    "model.fit(\n",
    "    train_objectives=[(train_dataloader, train_loss)],\n",
    "    epochs=2,\n",
    "    evaluator=evaluator,\n",
    "    evaluation_steps=500,\n",
    "    output_path=model_path,\n",
    "    show_progress_bar=True\n",
    ")\n",
    "\n",
    "model.save(model_path)"
   ]
  },
  {
   "cell_type": "code",
   "execution_count": 7,
   "metadata": {},
   "outputs": [
    {
     "name": "stderr",
     "output_type": "stream",
     "text": [
      "Evaluating: 100%|██████████| 1470/1470 [00:15<00:00, 95.65example/s]"
     ]
    },
    {
     "name": "stdout",
     "output_type": "stream",
     "text": [
      "Pearson Correlation on Setup 1C: 0.8964360257957592\n"
     ]
    },
    {
     "name": "stderr",
     "output_type": "stream",
     "text": [
      "\n"
     ]
    }
   ],
   "source": [
    "#Evaluation and prediction\n",
    "from tqdm.auto import tqdm\n",
    "\n",
    "model = SentenceTransformer(model_path)\n",
    "test_evaluator = evaluation.EmbeddingSimilarityEvaluator.from_input_examples(dev_examples, batch_size=8)\n",
    "\n",
    "model.eval()\n",
    "predictions = []\n",
    "labels = []\n",
    "\n",
    "for example in tqdm(dev_examples, desc=\"Evaluating\", unit=\"example\"):\n",
    "    embedding1 = model.encode(example.texts[0], convert_to_tensor=True)\n",
    "    embedding2 = model.encode(example.texts[1], convert_to_tensor=True)\n",
    "    \n",
    "    cosine_similarty = util.pytorch_cos_sim(embedding1, embedding2)\n",
    "    predictions.append(cosine_similarty.item())\n",
    "    \n",
    "    labels.append(example.label)\n",
    "\n",
    "predictions = np.array(predictions) * 5\n",
    "labels = np.array(labels) * 5\n",
    "\n",
    "pearson_corr = pearsonr(predictions, labels)\n",
    "print(f'Pearson Correlation on Setup 1C: {pearson_corr[0]}')"
   ]
  },
  {
   "cell_type": "code",
   "execution_count": 4,
   "metadata": {},
   "outputs": [
    {
     "name": "stdout",
     "output_type": "stream",
     "text": [
      "Index(['id', 'sentence1', 'sentence2'], dtype='object')\n"
     ]
    },
    {
     "data": {
      "application/vnd.jupyter.widget-view+json": {
       "model_id": "e9f78fc304b54e54878f9beb4ea611d1",
       "version_major": 2,
       "version_minor": 0
      },
      "text/plain": [
       "Generating Predictions:   0%|          | 0/6 [00:00<?, ?it/s]"
      ]
     },
     "metadata": {},
     "output_type": "display_data"
    }
   ],
   "source": [
    "#loading saved model for making prediction on test.csv and saving generating sample_demo.csv\n",
    "import pandas as pd\n",
    "import numpy as np\n",
    "from tqdm.auto import tqdm\n",
    "from sentence_transformers import SentenceTransformer, util\n",
    "\n",
    "model_path = \"1c_model\"\n",
    "model = SentenceTransformer(model_path)\n",
    "\n",
    "test_data = pd.read_csv(\"sample_test.csv\", delimiter='\\t')\n",
    "test_data['sentence2'] = test_data['sentence2'].fillna('')\n",
    "print(test_data.columns)\n",
    "\n",
    "def generate_predictions(model, test_data):\n",
    "    predictions = []\n",
    "    \n",
    "    for idx, row in tqdm(test_data.iterrows(), desc=\"Generating Predictions\", total=len(test_data)):\n",
    "        embedding1 = model.encode(row['sentence1'], convert_to_tensor=True)\n",
    "        embedding2 = model.encode(row['sentence2'], convert_to_tensor=True)\n",
    "\n",
    "        cos_sim = util.pytorch_cos_sim(embedding1, embedding2)\n",
    "        similarity_score = cos_sim.item() * 5\n",
    "        \n",
    "        predictions.append({\n",
    "            'id': row['id'],\n",
    "            'score': similarity_score,\n",
    "            'sentence1': row['sentence1'],\n",
    "            'sentence2': row['sentence2']\n",
    "        })\n",
    "    \n",
    "    return predictions\n",
    "\n",
    "predictions = generate_predictions(model, test_data)\n",
    "for prediction in predictions:\n",
    "    prediction['score'] = round(prediction['score'], 3)\n",
    "output_df = pd.DataFrame(predictions)\n",
    "output_df.to_csv('sample_demo_gen1.csv', index=False, sep='\\t')"
   ]
  },
  {
   "cell_type": "code",
   "execution_count": 10,
   "metadata": {},
   "outputs": [
    {
     "name": "stdout",
     "output_type": "stream",
     "text": [
      "Lists have been dumped\n"
     ]
    }
   ],
   "source": [
    "#Graph plotting\n",
    "training_losses = []\n",
    "validation_losses = []\n",
    "\n",
    "class LossTrackingEvaluator(evaluation.SentenceEvaluator):\n",
    "    def __init__(self, evaluator, training_losses):\n",
    "        self.evaluator = evaluator\n",
    "        self.training_losses = training_losses\n",
    "        self.validation_losses = []\n",
    "\n",
    "    def __call__(self, model, output_path=None, epoch=0, steps=0, *args, **kwargs):\n",
    "        score = self.evaluator(model, output_path, epoch, steps, *args, **kwargs)\n",
    "        self.validation_losses.append(1-score) \n",
    "        return score\n",
    "\n",
    "import pickle\n",
    "file_path3 = \"1C_train.pkl\"\n",
    "file_path4 = \"1C_val.pkl\"\n",
    "\n",
    "training_losses = l1[:2]\n",
    "validation_losses = l2[:2]\n",
    "\n",
    "# Dumping the list into the pickle file\n",
    "with open(file_path3, 'wb') as f:\n",
    "    pickle.dump(training_losses, f)\n",
    "with open(file_path4, 'wb') as f:\n",
    "    pickle.dump(validation_losses, f)\n",
    "\n",
    "print(f\"Lists have been dumped\")"
   ]
  }
 ],
 "metadata": {
  "kernelspec": {
   "display_name": "Python 3",
   "language": "python",
   "name": "python3"
  },
  "language_info": {
   "codemirror_mode": {
    "name": "ipython",
    "version": 3
   },
   "file_extension": ".py",
   "mimetype": "text/x-python",
   "name": "python",
   "nbconvert_exporter": "python",
   "pygments_lexer": "ipython3",
   "version": "3.10.12"
  }
 },
 "nbformat": 4,
 "nbformat_minor": 2
}
